{
 "cells": [
  {
   "cell_type": "markdown",
   "metadata": {
    "id": "havFsrqzlXPy"
   },
   "source": [
    "# Optimization Techniques on MNIST Dataset\n",
    "This notebook explores various optimization techniques for training neural networks on the MNIST dataset. The focus will be on different optimization strategies including Adaptive Learning Rates, SGD, Mini-Batch Gradient Descent, and Learning Rate Adjustments. Each section will provide a practical task related to these techniques."
   ]
  },
  {
   "cell_type": "code",
   "metadata": {
    "id": "ywjE9LpmlXP1",
    "ExecuteTime": {
     "end_time": "2024-11-22T18:46:18.735085Z",
     "start_time": "2024-11-22T18:46:15.727672Z"
    }
   },
   "source": [
    "import tensorflow as tf\n",
    "import numpy as np\n",
    "import matplotlib.pyplot as plt\n",
    "# from sklearn.datasets import fetch_openml\n",
    "\n",
    "# Load Fashion MNIST dataset\n",
    "(x_train, y_train), (x_test, y_test) = tf.keras.datasets.fashion_mnist.load_data()\n",
    "\n",
    "# Normalize data\n",
    "x_train, x_test = x_train / 255.0, x_test / 255.0\n",
    "\n",
    "# One-hot encode labels\n",
    "y_train = tf.keras.utils.to_categorical(y_train, 10)\n",
    "y_test = tf.keras.utils.to_categorical(y_test, 10)"
   ],
   "outputs": [
    {
     "name": "stderr",
     "output_type": "stream",
     "text": [
      "2024-11-22 22:16:16.003423: I tensorflow/core/util/port.cc:153] oneDNN custom operations are on. You may see slightly different numerical results due to floating-point round-off errors from different computation orders. To turn them off, set the environment variable `TF_ENABLE_ONEDNN_OPTS=0`.\n",
      "2024-11-22 22:16:16.115992: E external/local_xla/xla/stream_executor/cuda/cuda_fft.cc:485] Unable to register cuFFT factory: Attempting to register factory for plugin cuFFT when one has already been registered\n",
      "2024-11-22 22:16:16.166147: E external/local_xla/xla/stream_executor/cuda/cuda_dnn.cc:8454] Unable to register cuDNN factory: Attempting to register factory for plugin cuDNN when one has already been registered\n",
      "2024-11-22 22:16:16.180173: E external/local_xla/xla/stream_executor/cuda/cuda_blas.cc:1452] Unable to register cuBLAS factory: Attempting to register factory for plugin cuBLAS when one has already been registered\n",
      "2024-11-22 22:16:16.286784: I tensorflow/core/platform/cpu_feature_guard.cc:210] This TensorFlow binary is optimized to use available CPU instructions in performance-critical operations.\n",
      "To enable the following instructions: AVX2 AVX_VNNI FMA, in other operations, rebuild TensorFlow with the appropriate compiler flags.\n",
      "2024-11-22 22:16:17.199099: W tensorflow/compiler/tf2tensorrt/utils/py_utils.cc:38] TF-TRT Warning: Could not find TensorRT\n"
     ]
    }
   ],
   "execution_count": 1
  },
  {
   "cell_type": "markdown",
   "metadata": {},
   "source": [
    "## Adaptive Learning Rates"
   ]
  },
  {
   "cell_type": "markdown",
   "metadata": {
    "id": "4rNvoHEDlXP2"
   },
   "source": [
    "## Implementing a Simple Neural Network from Scratch"
   ]
  },
  {
   "cell_type": "markdown",
   "metadata": {
    "id": "8IMMs-s6lXP2"
   },
   "source": [
    "### Building the Network\n",
    "Define the architecture of a simple feedforward neural network with one hidden layer. You will need to manually initialize the weights and biases.\n",
    "\n",
    "**TODO:** Initialize Parameters\n",
    "Objective: Create a function to initialize weights and biases for all layers of the network.\n",
    "Instructions:\n",
    "- Initialize weights with small random values and biases with zeros.\n",
    "- Use numpy for creating arrays and operations.\n",
    "\n",
    "Hint: Use np.random.randn for weights and np.zeros for biases. Scale weights by 0.1."
   ]
  },
  {
   "cell_type": "code",
   "metadata": {
    "id": "HEUr0figlXP3",
    "ExecuteTime": {
     "end_time": "2024-11-22T18:46:18.738935Z",
     "start_time": "2024-11-22T18:46:18.736092Z"
    }
   },
   "source": [
    "def initialize_parameters(input_size, hidden_size, output_size):\n",
    "    \"\"\"\n",
    "    Initialize weights and biases for a simple feedforward neural network.\n",
    "\n",
    "    Parameters:\n",
    "    - input_size: Number of input features.\n",
    "    - hidden_size: Number of neurons in the hidden layer.\n",
    "    - output_size: Number of output classes.\n",
    "\n",
    "    Returns:\n",
    "    - parameters: A dictionary containing weights and biases.\n",
    "    \"\"\"\n",
    "    weights = np.random.randn(input_size, hidden_size) * .1\n",
    "    biases = np.zeros(hidden_size)\n",
    "    weights_output = np.random.randn(hidden_size, output_size) * .1\n",
    "    biases_output = np.zeros(output_size)\n",
    "    return {'W1': weights, 'b1': biases, 'W2': weights_output, 'b2': biases_output}\n"
   ],
   "outputs": [],
   "execution_count": 2
  },
  {
   "cell_type": "markdown",
   "metadata": {
    "id": "bDvfRCVq-74-"
   },
   "source": [
    "\n",
    "TODO: Define Activation Functions\n",
    "Objective: Implement commonly used activation functions.\n",
    "Instructions:\n",
    " - Define the ReLU and Sigmoid activation functions.\n",
    " - Ensure each function works with numpy arrays and supports both forward and derivative (gradient) computations.\n"
   ]
  },
  {
   "cell_type": "code",
   "metadata": {
    "id": "qIBwOlH6_Jg4",
    "ExecuteTime": {
     "end_time": "2024-11-22T18:46:18.743585Z",
     "start_time": "2024-11-22T18:46:18.740108Z"
    }
   },
   "source": [
    "def relu(x):\n",
    "    \"\"\"\n",
    "    ReLU activation function.\n",
    "\n",
    "    Parameters:\n",
    "    - x: Input numpy array.\n",
    "\n",
    "    Returns:\n",
    "    - Output after applying ReLU.\n",
    "    \"\"\"\n",
    "    return np.maximum(0, x)\n",
    "\n",
    "def relu_derivative(x):\n",
    "    \"\"\"\n",
    "    Derivative of ReLU activation function.\n",
    "\n",
    "    Parameters:\n",
    "    - x: Input numpy array.\n",
    "\n",
    "    Returns:\n",
    "    - Derivative of ReLU.\n",
    "    \"\"\"\n",
    "    return np.where(x < 0, 0, 1)\n",
    "\n",
    "def sigmoid(x):\n",
    "    \"\"\"\n",
    "    Sigmoid activation function.\n",
    "\n",
    "    Parameters:\n",
    "    - x: Input numpy array.\n",
    "\n",
    "    Returns:\n",
    "    - Output after applying sigmoid.\n",
    "    \"\"\"\n",
    "    x = np.clip(x, -500, 500)\n",
    "    return 1 / (1+np.exp(-x))\n",
    "\n",
    "def sigmoid_derivative(x):\n",
    "    \"\"\"\n",
    "    Derivative of sigmoid activation function.\n",
    "\n",
    "    Parameters:\n",
    "    - x: Input numpy array.\n",
    "\n",
    "    Returns:\n",
    "    - Derivative of sigmoid.\n",
    "    \"\"\"\n",
    "    sigmoid_x = sigmoid(x)\n",
    "    return sigmoid_x * (1-sigmoid_x)\n"
   ],
   "outputs": [],
   "execution_count": 3
  },
  {
   "cell_type": "markdown",
   "metadata": {
    "id": "h6HxkvToEDjr"
   },
   "source": [
    "TODO: Perform forward propagation through the network.\n",
    "\n",
    "    Parameters:\n",
    "    - X: Input data (shape: number of examples x input size).\n",
    "    - parameters: Dictionary containing weights and biases.\n",
    "\n",
    "    Returns:\n",
    "    - A2: Output of the network (after activation).\n",
    "    - cache: Dictionary containing intermediate values for backpropagation."
   ]
  },
  {
   "cell_type": "code",
   "metadata": {
    "id": "4ylVbZoXECpn",
    "ExecuteTime": {
     "end_time": "2024-11-22T18:46:18.747711Z",
     "start_time": "2024-11-22T18:46:18.745117Z"
    }
   },
   "source": [
    "def forward_propagation(X, parameters):\n",
    "    \"\"\"\n",
    "    Perform forward propagation through the network.\n",
    "\n",
    "    Parameters:\n",
    "    - X: Input data (shape: number of examples x input size).\n",
    "    - parameters: Dictionary containing weights and biases.\n",
    "\n",
    "    Returns:\n",
    "    - A2: Output of the network (after activation).\n",
    "    - cache: Dictionary containing intermediate values for backpropagation.\n",
    "    \"\"\"\n",
    "    A1 = np.dot(X, parameters['W1']) + parameters['b1']\n",
    "    Z1 = relu(A1)\n",
    "    A2 = np.dot(Z1, parameters['W2']) + parameters['b2']\n",
    "    Z2 = sigmoid(A2)\n",
    "    cache = {'A1': A1, 'Z1': Z1, 'A2': A2, 'Z2': Z2}\n",
    "    return Z2, cache\n"
   ],
   "outputs": [],
   "execution_count": 4
  },
  {
   "cell_type": "markdown",
   "metadata": {
    "id": "-KtURRNUC_NP"
   },
   "source": [
    "TODO: Implement the loss function. Compute the categorical cross-entropy loss.\n",
    "\n",
    "    Parameters:\n",
    "    - y_true: True labels (one-hot encoded).\n",
    "    - y_pred: Predicted probabilities (output of the network).\n",
    "\n",
    "    Returns:\n",
    "    - loss: Computed loss."
   ]
  },
  {
   "cell_type": "code",
   "metadata": {
    "id": "advoE8kEC-vk",
    "ExecuteTime": {
     "end_time": "2024-11-22T18:46:18.751364Z",
     "start_time": "2024-11-22T18:46:18.748737Z"
    }
   },
   "source": [
    "def compute_loss(y_true, y_pred):\n",
    "    \"\"\"\n",
    "    Compute the categorical cross-entropy loss.\n",
    "\n",
    "    Parameters:\n",
    "    - y_true: True labels (one-hot encoded).\n",
    "    - y_pred: Predicted probabilities (output of the network).\n",
    "\n",
    "    Returns:\n",
    "    - loss: Computed loss.\n",
    "    \"\"\"\n",
    "    m = y_true.shape[0]\n",
    "    epsilon = 1e-10\n",
    "    # y_pred = np.clip(y_pred, epsilon, 1-epsilon)\n",
    "    loss = -np.sum(y_true * np.log(y_pred)) / m\n",
    "    return loss\n"
   ],
   "outputs": [],
   "execution_count": 5
  },
  {
   "cell_type": "markdown",
   "metadata": {
    "id": "s5V1D0jUDK3B"
   },
   "source": [
    "TODO: Implement backpropagation for the network and Perform backward propagation through the network.\n",
    "\n",
    "    Parameters:\n",
    "    - X: Input data.\n",
    "    - y_true: True labels.\n",
    "    - parameters: Dictionary containing weights and biases.\n",
    "    - cache: Intermediate values from forward propagation.\n",
    "\n",
    "    Returns:\n",
    "    - gradients: Dictionary containing gradients for weights and biases."
   ]
  },
  {
   "cell_type": "code",
   "metadata": {
    "id": "4CxAo9FlBG18",
    "ExecuteTime": {
     "end_time": "2024-11-22T18:46:18.755886Z",
     "start_time": "2024-11-22T18:46:18.752335Z"
    }
   },
   "source": [
    "def backward_propagation(X, y_true, parameters, cache):\n",
    "    \"\"\"\n",
    "    Perform backward propagation through the network.\n",
    "\n",
    "    Parameters:\n",
    "    - X: Input data.\n",
    "    - y_true: True labels.\n",
    "    - parameters: Dictionary containing weights and biases.\n",
    "    - cache: Intermediate values from forward propagation.\n",
    "\n",
    "    Returns:\n",
    "    - gradients: Dictionary containing gradients for weights and biases.\n",
    "    \"\"\"\n",
    "    m = X.shape[0]\n",
    "    dA2 = cache['Z2'] - y_true\n",
    "    dW2 = np.dot(cache['Z1'].T, dA2) / m\n",
    "    db2 = np.sum(dA2, axis=0) / m\n",
    "    dZ1 = np.dot(dA2, parameters['W2'].T)\n",
    "    dA1 = dZ1 * relu_derivative(cache['A1'])\n",
    "    dW1 = np.dot(X.T, dA1) / m\n",
    "    db1 = np.sum(dA1, axis=0) / m\n",
    "    gradients = {'dW1': dW1, 'db1': db1, 'dW2': dW2, 'db2': db2}\n",
    "    return gradients\n"
   ],
   "outputs": [],
   "execution_count": 6
  },
  {
   "cell_type": "markdown",
   "metadata": {
    "id": "LG2cvi3DDe4Q"
   },
   "source": [
    "TODO: Update the parameters using gradient descent.\n",
    "\n",
    "    Parameters:\n",
    "    - parameters: Current weights and biases.\n",
    "    - gradients: Calculated gradients.\n",
    "    - learning_rate: Learning rate for updates.\n",
    "\n",
    "    Returns:\n",
    "    - parameters: Updated weights and biases."
   ]
  },
  {
   "cell_type": "code",
   "metadata": {
    "id": "9uMGXPGqDdk4",
    "ExecuteTime": {
     "end_time": "2024-11-22T18:46:18.759608Z",
     "start_time": "2024-11-22T18:46:18.756922Z"
    }
   },
   "source": [
    "def update_parameters(parameters, gradients, learning_rate=0.01):\n",
    "    \"\"\"\n",
    "    Update parameters using gradient descent.\n",
    "\n",
    "    Parameters:\n",
    "    - parameters: Current weights and biases.\n",
    "    - gradients: Calculated gradients.\n",
    "    - learning_rate: Learning rate for updates.\n",
    "\n",
    "    Returns:\n",
    "    - parameters: Updated weights and biases.\n",
    "    \"\"\"\n",
    "    parameters['W1'] -= learning_rate * gradients['dW1']\n",
    "    parameters['b1'] -= learning_rate * gradients['db1']\n",
    "    parameters['W2'] -= learning_rate * gradients['dW2']\n",
    "    parameters['b2'] -= learning_rate * gradients['db2']\n",
    "    return parameters\n"
   ],
   "outputs": [],
   "execution_count": 7
  },
  {
   "cell_type": "markdown",
   "metadata": {
    "id": "5E4UZg1SD2bM"
   },
   "source": [
    "TODO: Train the model by changing the hidden layer size (such as [32, 64, 128]) and observe the impact on network performance during training.\n",
    "\n",
    "    Train the neural network model.\n",
    "\n",
    "    Parameters:\n",
    "    - X_train: Training data.\n",
    "    - y_train: One-hot encoded labels.\n",
    "    - hidden_size: Number of neurons in the hidden layer.\n",
    "    - epochs: Number of training epochs.\n",
    "    - learning_rate: Learning rate for optimization."
   ]
  },
  {
   "cell_type": "code",
   "metadata": {
    "colab": {
     "base_uri": "https://localhost:8080/"
    },
    "id": "GlsAvdUCDzSb",
    "outputId": "39851e5f-dea2-49d0-bdc0-3cbc5cbb08b5",
    "ExecuteTime": {
     "end_time": "2024-11-22T18:47:03.248622Z",
     "start_time": "2024-11-22T18:46:18.760294Z"
    }
   },
   "source": [
    "# Training Loop\n",
    "def train_model(X_train, y_train, hidden_size, epochs=50, learning_rate=0.01):\n",
    "    \"\"\"\n",
    "    Train the neural network model.\n",
    "\n",
    "    Parameters:\n",
    "    - X_train: Training data.\n",
    "    - y_train: One-hot encoded labels.\n",
    "    - hidden_size: Number of neurons in the hidden layer.\n",
    "    - epochs: Number of training epochs.\n",
    "    - learning_rate: Learning rate for optimization.\n",
    "    \"\"\"\n",
    "    input_size = X_train.shape[1]\n",
    "    output_size = y_train.shape[1]\n",
    "    parameters = initialize_parameters(input_size, hidden_size, output_size)\n",
    "    loss_history = []\n",
    "    for _ in range(epochs):\n",
    "        y_pred, cache = forward_propagation(X_train, parameters)\n",
    "        loss = compute_loss(y_train, y_pred)\n",
    "        gradients = backward_propagation(X_train, y_train, parameters, cache)\n",
    "        parameters = update_parameters(parameters, gradients, learning_rate)\n",
    "        loss_history.append(loss)\n",
    "        if _ % 10 == 0:\n",
    "            print(f'Epoch {_}, Loss: {loss:.4f}')\n",
    "\n",
    "for hidden_size in [32, 64, 128]:\n",
    "    print(f'Training with hidden size: {hidden_size}')\n",
    "    train_model(x_train.reshape(-1, 784), y_train, hidden_size)\n",
    "    print()\n"
   ],
   "outputs": [
    {
     "name": "stdout",
     "output_type": "stream",
     "text": [
      "Training with hidden size: 32\n",
      "Epoch 0, Loss: 0.7678\n",
      "Epoch 10, Loss: 1.4179\n",
      "Epoch 20, Loss: 1.8719\n",
      "Epoch 30, Loss: 2.0180\n",
      "Epoch 40, Loss: 2.0356\n",
      "\n",
      "Training with hidden size: 64\n",
      "Epoch 0, Loss: 0.6265\n",
      "Epoch 10, Loss: 1.3290\n",
      "Epoch 20, Loss: 1.7779\n",
      "Epoch 30, Loss: 1.9022\n",
      "Epoch 40, Loss: 1.8963\n",
      "\n",
      "Training with hidden size: 128\n",
      "Epoch 0, Loss: 0.8682\n",
      "Epoch 10, Loss: 1.8236\n",
      "Epoch 20, Loss: 1.8855\n",
      "Epoch 30, Loss: 1.7924\n",
      "Epoch 40, Loss: 1.6825\n",
      "\n"
     ]
    }
   ],
   "execution_count": 8
  },
  {
   "cell_type": "markdown",
   "metadata": {
    "id": "YuCNlJCHKf1S"
   },
   "source": [
    "TODO: Implement Adam Optimizer\n",
    "\n",
    "1. Initialize Parameters: Create variables to store the moment estimates (first and second) for each parameter.\n",
    "\n",
    "    Parameters:\n",
    "    - parameters: Dictionary containing weights and biases.\n",
    "\n",
    "    Returns:\n",
    "    - v: First moment vector (initialized to zeros).\n",
    "    - s: Second moment vector (initialized to zeros).\n",
    "    - t: Time step (initialized to 0).\n",
    "\n",
    "2. Update Rules: Implement the update rules based on the gradients, learning rate, and moment estimates.\n"
   ]
  },
  {
   "cell_type": "code",
   "metadata": {
    "id": "Iqy1_rfsKP8b",
    "ExecuteTime": {
     "end_time": "2024-11-22T18:47:03.261311Z",
     "start_time": "2024-11-22T18:47:03.250013Z"
    }
   },
   "source": [
    "def initialize_adam(parameters):\n",
    "    \"\"\"\n",
    "    Initialize the Adam optimizer variables.\n",
    "\n",
    "    Parameters:\n",
    "    - parameters: Dictionary containing weights and biases.\n",
    "\n",
    "    Returns:\n",
    "    - v: First moment vector (initialized to zeros).\n",
    "    - s: Second moment vector (initialized to zeros).\n",
    "    - t: Time step (initialized to 0).\n",
    "    \"\"\"\n",
    "    t = 0\n",
    "    v = {key: np.zeros_like(value) for key, value in parameters.items()}\n",
    "    s = {key: np.zeros_like(value) for key, value in parameters.items()}\n",
    "    return v, s, t\n",
    "\n",
    "\n",
    "def update_parameters_with_adam(parameters, gradients, v, s, t, learning_rate=0.001, beta1=0.9, beta2=0.999, epsilon=1e-8):\n",
    "    \"\"\"\n",
    "    Update parameters using the Adam optimizer.\n",
    "\n",
    "    Parameters:\n",
    "    - parameters: Current weights and biases.\n",
    "    - gradients: Calculated gradients.\n",
    "    - v: First moment vector.\n",
    "    - s: Second moment vector.\n",
    "    - t: Time step.\n",
    "    - learning_rate: Learning rate for updates.\n",
    "    - beta1: Exponential decay rate for the first moment estimates.\n",
    "    - beta2: Exponential decay rate for the second moment estimates.\n",
    "    - epsilon: Small constant for numerical stability.\n",
    "\n",
    "    Returns:\n",
    "    - parameters: Updated weights and biases.\n",
    "    - v: Updated first moment vector.\n",
    "    - s: Updated second moment vector.\n",
    "    - t: Updated time step.\n",
    "    \"\"\"\n",
    "    t += 1\n",
    "    for k in parameters.keys():\n",
    "        v[k] = beta1*v[k] + (1-beta1) * gradients[f'd{k}']\n",
    "        s[k] = beta2*s[k] + (1-beta2) * (gradients[f'd{k}']**2)\n",
    "        v_corrected = v[k] / (1-beta1**t)\n",
    "        s_corrected = s[k] / (1-beta2**t)\n",
    "        parameters[k] -= learning_rate * v_corrected / (np.sqrt(s_corrected) + epsilon)\n",
    "        return parameters, v, s, t\n"
   ],
   "outputs": [],
   "execution_count": 9
  },
  {
   "cell_type": "markdown",
   "metadata": {
    "id": "-mU6NQXdLQd_"
   },
   "source": [
    "TODO: Implement Adam optimizer into the training loop."
   ]
  },
  {
   "cell_type": "code",
   "metadata": {
    "colab": {
     "base_uri": "https://localhost:8080/"
    },
    "id": "NMPqxphzKSv8",
    "outputId": "10d1696e-ad85-407e-def8-c2cbd424bb97",
    "ExecuteTime": {
     "end_time": "2024-11-22T18:47:46.553563Z",
     "start_time": "2024-11-22T18:47:03.264779Z"
    }
   },
   "source": [
    "def train_model_with_adam(X_train, y_train, hidden_size, epochs=50, learning_rate=0.001):\n",
    "    \"\"\"\n",
    "    Train the neural network model using Adam optimizer.\n",
    "\n",
    "    Parameters:\n",
    "    - X_train: Training data.\n",
    "    - y_train: One-hot encoded labels.\n",
    "    - hidden_size: Number of neurons in the hidden layer.\n",
    "    - epochs: Number of training epochs.\n",
    "    - learning_rate: Learning rate for optimization.\n",
    "    \"\"\"\n",
    "    input_size = X_train.shape[1]\n",
    "    output_size = y_train.shape[1]\n",
    "    parameters = initialize_parameters(input_size, hidden_size, output_size)\n",
    "    v, s, t = initialize_adam(parameters)\n",
    "    loss_history = []\n",
    "    for _ in range(epochs):\n",
    "        y_pred, cache = forward_propagation(X_train, parameters)\n",
    "        loss = compute_loss(y_train, y_pred)\n",
    "        gradients = backward_propagation(X_train, y_train, parameters, cache)\n",
    "        parameters, v, s, t = update_parameters_with_adam(parameters, gradients, v, s, t, learning_rate)\n",
    "        loss_history.append(loss)\n",
    "        if _ % 10 == 0:\n",
    "            print(f'Epoch {_}, Loss: {loss:.4f}')\n",
    "\n",
    "for hidden_size in [32, 64, 128]:\n",
    "    print(f'Training with hidden size: {hidden_size}')\n",
    "    train_model_with_adam(x_train.reshape(-1, 784), y_train, hidden_size)\n",
    "    print()\n"
   ],
   "outputs": [
    {
     "name": "stdout",
     "output_type": "stream",
     "text": [
      "Training with hidden size: 32\n",
      "Epoch 0, Loss: 0.6214\n",
      "Epoch 10, Loss: 0.8770\n",
      "Epoch 20, Loss: 1.0783\n",
      "Epoch 30, Loss: 1.2021\n",
      "Epoch 40, Loss: 1.2518\n",
      "\n",
      "Training with hidden size: 64\n",
      "Epoch 0, Loss: 0.7797\n",
      "Epoch 10, Loss: 1.5973\n",
      "Epoch 20, Loss: 1.9104\n",
      "Epoch 30, Loss: 1.6198\n",
      "Epoch 40, Loss: 1.2901\n",
      "\n",
      "Training with hidden size: 128\n",
      "Epoch 0, Loss: 0.8129\n",
      "Epoch 10, Loss: 1.9153\n",
      "Epoch 20, Loss: 1.2576\n",
      "Epoch 30, Loss: 0.9080\n",
      "Epoch 40, Loss: 0.8996\n",
      "\n"
     ]
    }
   ],
   "execution_count": 10
  },
  {
   "cell_type": "markdown",
   "metadata": {
    "id": "fEZVkGGplXP4"
   },
   "source": [
    "### Compare Adam and RMSprop\n"
   ]
  },
  {
   "cell_type": "markdown",
   "metadata": {
    "id": "7BxQoqf8ak2k"
   },
   "source": [
    "TODO: First, implement the RMSprop optimizer. The RMSprop optimizer uses a moving average of squared gradients to normalize the gradient, which helps to stabilize the updates."
   ]
  },
  {
   "cell_type": "code",
   "metadata": {
    "id": "117xMpE6avQ2",
    "ExecuteTime": {
     "end_time": "2024-11-22T18:47:46.563822Z",
     "start_time": "2024-11-22T18:47:46.556617Z"
    }
   },
   "source": [
    "def initialize_rmsprop(parameters):\n",
    "    \"\"\"\n",
    "    Initialize the RMSprop variables.\n",
    "\n",
    "    Parameters:\n",
    "    - parameters: Dictionary containing weights and biases.\n",
    "\n",
    "    Returns:\n",
    "    - s: Second moment vector (initialized to zeros).\n",
    "    \"\"\"\n",
    "    return {k: np.zeros_like(v) for k, v in parameters.items()}\n",
    "\n",
    "def update_parameters_with_rmsprop(parameters, gradients, s, learning_rate=0.001, beta=0.9, epsilon=1e-8):\n",
    "    \"\"\"\n",
    "    Update parameters using the RMSprop optimizer.\n",
    "\n",
    "    Parameters:\n",
    "    - parameters: Current weights and biases.\n",
    "    - gradients: Calculated gradients.\n",
    "    - s: Second moment vector.\n",
    "    - learning_rate: Learning rate for updates.\n",
    "    - beta: Exponential decay rate for the second moment estimates.\n",
    "    - epsilon: Small constant for numerical stability.\n",
    "\n",
    "    Returns:\n",
    "    - parameters: Updated weights and biases.\n",
    "    - s: Updated second moment vector.\n",
    "    \"\"\"\n",
    "    for k in parameters.keys():\n",
    "        s[k] = beta*s[k] + (1-beta) * gradients[f'd{k}']**2\n",
    "        parameters[k] -= learning_rate * gradients[f'd{k}'] / (np.sqrt(s[k]) + epsilon)\n",
    "    return parameters, s\n"
   ],
   "outputs": [],
   "execution_count": 11
  },
  {
   "cell_type": "markdown",
   "metadata": {
    "id": "GWJg1GjFayY2"
   },
   "source": [
    "TODO: Modify the training loop to allow for both optimizers and store the loss history for comparison."
   ]
  },
  {
   "cell_type": "code",
   "metadata": {
    "id": "iwcuRTkja5pT",
    "ExecuteTime": {
     "end_time": "2024-11-22T18:47:46.575089Z",
     "start_time": "2024-11-22T18:47:46.566752Z"
    }
   },
   "source": [
    "def train_model(X_train, y_train, hidden_size, epochs=50, learning_rate=0.001, optimizer='adam'):\n",
    "    \"\"\"\n",
    "    Train the neural network model using specified optimizer.\n",
    "\n",
    "    Parameters:\n",
    "    - X_train: Training data.\n",
    "    - y_train: One-hot encoded labels.\n",
    "    - hidden_size: Number of neurons in the hidden layer.\n",
    "    - epochs: Number of training epochs.\n",
    "    - learning_rate: Learning rate for optimization.\n",
    "    - optimizer: The optimizer to use ('adam' or 'rmsprop').\n",
    "\n",
    "    Returns:\n",
    "    - loss_history: List of loss values over epochs.\n",
    "    \"\"\"\n",
    "    input_size = X_train.shape[1]\n",
    "    output_size = y_train.shape[1]\n",
    "    parameters = initialize_parameters(input_size, hidden_size, output_size)\n",
    "    v, s, t = initialize_adam(parameters)\n",
    "    # if optimizer == 'adam':\n",
    "    #     v, s, t = initialize_adam(parameters)\n",
    "    if optimizer == 'rmsprop':\n",
    "        s = initialize_rmsprop(parameters)\n",
    "    loss_history = []\n",
    "    for _ in range(epochs):\n",
    "        y_pred, cache = forward_propagation(X_train, parameters)\n",
    "        loss = compute_loss(y_train, y_pred)\n",
    "        gradients = backward_propagation(X_train, y_train, parameters, cache)\n",
    "        if optimizer == 'adam':\n",
    "            parameters, v, s, t = update_parameters_with_adam(parameters, gradients, v, s, t, learning_rate)\n",
    "        elif optimizer == 'rmsprop':\n",
    "            parameters, s = update_parameters_with_rmsprop(parameters, gradients, s, learning_rate)\n",
    "        loss_history.append(loss)\n",
    "        if _ % 10 == 0:\n",
    "            print(f'Epoch {_}, Loss: {loss:.4f}')\n",
    "    return loss_history\n"
   ],
   "outputs": [],
   "execution_count": 12
  },
  {
   "cell_type": "markdown",
   "metadata": {
    "id": "g5cPzN1ma9Xi"
   },
   "source": [
    "TODO:  Compare Both Optimizers. Create a function to train the model using both optimizers and plot the loss histories for comparison."
   ]
  },
  {
   "cell_type": "code",
   "metadata": {
    "colab": {
     "base_uri": "https://localhost:8080/",
     "height": 801
    },
    "id": "-z5eRURgbDIG",
    "outputId": "a292b2ab-8d4f-456b-b32f-6bff5cc18205",
    "ExecuteTime": {
     "end_time": "2024-11-22T18:48:09.314125Z",
     "start_time": "2024-11-22T18:47:46.578733Z"
    }
   },
   "source": [
    "def compare_optimizers(X_train, y_train, hidden_size, epochs=50):\n",
    "    \"\"\"\n",
    "    Compare the Adam and RMSprop optimizers.\n",
    "\n",
    "    Parameters:\n",
    "    - X_train: Training data.\n",
    "    - y_train: One-hot encoded labels.\n",
    "    - hidden_size: Number of neurons in the hidden layer.\n",
    "    - epochs: Number of training epochs.\n",
    "    \"\"\"\n",
    "    print('Training with Adam optimizer...')\n",
    "    adam_loss = train_model(X_train, y_train, hidden_size, epochs, optimizer='adam')\n",
    "    print('\\nTraining with RMSprop optimizer...')\n",
    "    rmsprop_loss = train_model(X_train, y_train, hidden_size, epochs, optimizer='rmsprop')\n",
    "    plt.plot(adam_loss, label='Adam Loss')\n",
    "    plt.plot(rmsprop_loss, label='RMSprop Loss')\n",
    "    plt.grid = True\n",
    "    plt.xlabel('Epochs')\n",
    "    plt.ylabel('Loss')\n",
    "    plt.title('Loss Comparison between Adam and RMSprop')\n",
    "    plt.legend()\n",
    "    \n",
    "compare_optimizers(x_train.reshape(-1, 784), y_train, 64)\n"
   ],
   "outputs": [
    {
     "name": "stdout",
     "output_type": "stream",
     "text": [
      "Training with Adam optimizer...\n",
      "Epoch 0, Loss: 0.7963\n",
      "Epoch 10, Loss: 1.3587\n",
      "Epoch 20, Loss: 1.5635\n",
      "Epoch 30, Loss: 1.2773\n",
      "Epoch 40, Loss: 1.0444\n",
      "\n",
      "Training with RMSprop optimizer...\n",
      "Epoch 0, Loss: 0.7849\n",
      "Epoch 10, Loss: 1.4349\n",
      "Epoch 20, Loss: 1.1861\n",
      "Epoch 30, Loss: 1.0015\n",
      "Epoch 40, Loss: 0.8893\n"
     ]
    },
    {
     "data": {
      "text/plain": [
       "<Figure size 640x480 with 1 Axes>"
      ],
      "image/png": "[encoded data removed]"
     },
     "metadata": {},
     "output_type": "display_data"
    }
   ],
   "execution_count": 13
  },
  {
   "cell_type": "markdown",
   "metadata": {
    "id": "pueHFmTUlXP5"
   },
   "source": [
    "## Stochastic Gradient Descent (SGD)"
   ]
  },
  {
   "cell_type": "markdown",
   "metadata": {
    "id": "3zrSW4LilXP5"
   },
   "source": "### Impact of Different Learning Rates on SGD\n"
  },
  {
   "cell_type": "markdown",
   "metadata": {
    "id": "BU9BiBsKcWjb"
   },
   "source": [
    "Explore the impact of different learning rates on the training dynamics and performance of Stochastic Gradient Descent (SGD). This will allow us to observe how the learning rate affects convergence speed, stability, and final performance.\n",
    "\n",
    "Steps for Implementing the Experiment\n",
    "\n",
    "1. Define the SGD Optimizer: Implement a simple SGD optimizer.\n",
    "2. Modify the Training Loop: Allow for different learning rates.\n",
    "3. Train the Model: Run the training process with a set of predefined learning rates.\n",
    "4. Visualize the Results: Plot the loss curves for each learning rate to compare their effects"
   ]
  },
  {
   "cell_type": "markdown",
   "metadata": {
    "id": "vDRSuNVrcvVI"
   },
   "source": [
    "1. Implement SGD Optimizer\n"
   ]
  },
  {
   "cell_type": "code",
   "metadata": {
    "id": "r9UE2OHfcwCe",
    "ExecuteTime": {
     "end_time": "2024-11-22T18:48:09.317388Z",
     "start_time": "2024-11-22T18:48:09.315008Z"
    }
   },
   "source": [
    "def update_parameters_with_sgd(parameters, gradients, learning_rate=0.01):\n",
    "    \"\"\"\n",
    "    Update parameters using Stochastic Gradient Descent (SGD).\n",
    "\n",
    "    Parameters:\n",
    "    - parameters: Current weights and biases.\n",
    "    - gradients: Calculated gradients.\n",
    "    - learning_rate: Learning rate for updates.\n",
    "\n",
    "    Returns:\n",
    "    - parameters: Updated weights and biases.\n",
    "    \"\"\"\n",
    "    for k in parameters.keys():\n",
    "        parameters[k] -= learning_rate * gradients[f'd{k}']\n",
    "    return parameters\n"
   ],
   "outputs": [],
   "execution_count": 14
  },
  {
   "cell_type": "markdown",
   "metadata": {
    "id": "O4qIjyg9cyXB"
   },
   "source": [
    "2. Modify the Training Loop\n"
   ]
  },
  {
   "cell_type": "code",
   "metadata": {
    "id": "U1gKM56IdBH-",
    "ExecuteTime": {
     "end_time": "2024-11-22T18:48:51.560236Z",
     "start_time": "2024-11-22T18:48:51.557132Z"
    }
   },
   "source": [
    "def train_model_with_sgd(X_train, y_train, hidden_size, epochs=50, learning_rate=0.01):\n",
    "    \"\"\"\n",
    "    Train the neural network model using SGD optimizer.\n",
    "\n",
    "    Parameters:\n",
    "    - X_train: Training data.\n",
    "    - y_train: One-hot encoded labels.\n",
    "    - hidden_size: Number of neurons in the hidden layer.\n",
    "    - epochs: Number of training epochs.\n",
    "    - learning_rate: Learning rate for optimization.\n",
    "\n",
    "    Returns:\n",
    "    - loss_history: List of loss values over epochs.\n",
    "    \"\"\"\n",
    "    input_size = X_train.shape[1]\n",
    "    output_size = y_train.shape[1]\n",
    "    parameters = initialize_parameters(input_size, hidden_size, output_size)\n",
    "    loss_history = []\n",
    "    for _ in range(epochs):\n",
    "        y_pred, cache = forward_propagation(X_train, parameters)\n",
    "        loss = compute_loss(y_train, y_pred)\n",
    "        gradients = backward_propagation(X_train, y_train, parameters, cache)\n",
    "        parameters = update_parameters_with_sgd(parameters, gradients, learning_rate)\n",
    "        loss_history.append(loss)\n",
    "        if _ % 10 == 0:\n",
    "            print(f'Epoch {_}, Loss: {loss:.4f}')\n",
    "    return loss_history\n"
   ],
   "outputs": [],
   "execution_count": 20
  },
  {
   "cell_type": "markdown",
   "metadata": {
    "id": "CeQpjFQHdD4v"
   },
   "source": [
    "3. Experiment with Different Learning Rates\n"
   ]
  },
  {
   "cell_type": "code",
   "metadata": {
    "colab": {
     "base_uri": "https://localhost:8080/",
     "height": 948
    },
    "id": "FvFIXxFRdGDv",
    "outputId": "034c4386-19bc-4869-c0f8-693c698eb9fe",
    "ExecuteTime": {
     "end_time": "2024-11-22T18:49:28.945075Z",
     "start_time": "2024-11-22T18:48:52.743070Z"
    }
   },
   "source": [
    "def compare_learning_rates(X_train, y_train, hidden_size, epochs=50, learning_rates=[0.001, 0.01, 0.1]):\n",
    "    \"\"\"\n",
    "    Compare the performance of SGD with different learning rates.\n",
    "\n",
    "    Parameters:\n",
    "    - X_train: Training data.\n",
    "    - y_train: One-hot encoded labels.\n",
    "    - hidden_size: Number of neurons in the hidden layer.\n",
    "    - epochs: Number of training epochs.\n",
    "    - learning_rates: List of learning rates to test.\n",
    "    \"\"\"\n",
    "    for learning_rate in learning_rates:\n",
    "        print(f'Training with learning rate: {learning_rate}')\n",
    "        loss_history = train_model_with_sgd(X_train, y_train, hidden_size, epochs, learning_rate)\n",
    "        plt.plot(loss_history, label=f'Learning Rate: {learning_rate}')\n",
    "        print()\n",
    "\n",
    "        \n",
    "compare_learning_rates(x_train.reshape(-1, 784), y_train, 64)\n",
    "plt.xlabel('Epochs')\n",
    "plt.ylabel('Loss')\n",
    "plt.title('Loss Comparison for Different Learning Rates (SGD)')\n",
    "plt.grid = True\n",
    "plt.legend()\n",
    "plt.show()\n"
   ],
   "outputs": [
    {
     "name": "stdout",
     "output_type": "stream",
     "text": [
      "Training with learning rate: 0.001\n",
      "Epoch 0, Loss: 0.8255\n",
      "Epoch 10, Loss: 0.9242\n",
      "Epoch 20, Loss: 1.0203\n",
      "Epoch 30, Loss: 1.1142\n",
      "Epoch 40, Loss: 1.2054\n",
      "\n",
      "Training with learning rate: 0.01\n",
      "Epoch 0, Loss: 0.8405\n",
      "Epoch 10, Loss: 1.6162\n",
      "Epoch 20, Loss: 1.8460\n",
      "Epoch 30, Loss: 1.8492\n",
      "Epoch 40, Loss: 1.7929\n",
      "\n",
      "Training with learning rate: 0.1\n",
      "Epoch 0, Loss: 0.7400\n",
      "Epoch 10, Loss: 1.6046\n",
      "Epoch 20, Loss: 1.2307\n",
      "Epoch 30, Loss: 1.0665\n",
      "Epoch 40, Loss: 0.9742\n",
      "\n"
     ]
    },
    {
     "data": {
      "text/plain": [
       "<Figure size 640x480 with 1 Axes>"
      ],
      "image/png": "[encoded data removed]"
     },
     "metadata": {},
     "output_type": "display_data"
    }
   ],
   "execution_count": 21
  },
  {
   "cell_type": "markdown",
   "metadata": {
    "id": "IXxuYU7llXP6"
   },
   "source": [
    "### SGD with Momentum vs. Classic SGD\n"
   ]
  },
  {
   "cell_type": "markdown",
   "metadata": {
    "id": "R8dcD51aepnC"
   },
   "source": [
    "TODO: Compare Stochastic Gradient Descent (SGD) with momentum and classic SGD, you can set up an experiment that trains the same model using both methods. This will help you observe differences in convergence speed and stability.\n",
    "\n",
    "Steps for Implementing the Comparison:\n",
    "\n",
    "1. Implement Classic SGD: Ensure you have a basic SGD implementation.(already implemented in the previous cells)\n",
    "\n",
    "2. Implement SGD with Momentum: Add a momentum version of the SGD optimizer.\n",
    "\n",
    "3. Modify the Training Loop: Allow for both optimizers in the training process.\n",
    "\n",
    "4. Train the Model: Run the training process using both optimizers.\n",
    "\n",
    "5. Visualize the Results: Plot the loss curves for each optimizer to compare their performance."
   ]
  },
  {
   "cell_type": "markdown",
   "metadata": {
    "id": "9-czqAXNe_nQ"
   },
   "source": [
    "2. Implement SGD with Momentum\n"
   ]
  },
  {
   "cell_type": "code",
   "metadata": {
    "id": "8uzLkhWcfB6a",
    "ExecuteTime": {
     "end_time": "2024-11-22T18:49:37.334363Z",
     "start_time": "2024-11-22T18:49:37.330934Z"
    }
   },
   "source": [
    "def initialize_momentum(parameters):\n",
    "    \"\"\"\n",
    "    Initialize the momentum variables.\n",
    "\n",
    "    Parameters:\n",
    "    - parameters: Dictionary containing weights and biases.\n",
    "\n",
    "    Returns:\n",
    "    - v: Momentum variable (initialized to zeros).\n",
    "    \"\"\"\n",
    "    return {k: np.zeros_like(v) for k, v in parameters.items()}\n",
    "\n",
    "def update_parameters_with_momentum(parameters, gradients, v, learning_rate=0.01, beta=0.9):\n",
    "    \"\"\"\n",
    "    Update parameters using SGD with momentum.\n",
    "\n",
    "    Parameters:\n",
    "    - parameters: Current weights and biases.\n",
    "    - gradients: Calculated gradients.\n",
    "    - v: Momentum variable.\n",
    "    - learning_rate: Learning rate for updates.\n",
    "    - beta: Exponential decay rate for momentum.\n",
    "\n",
    "    Returns:\n",
    "    - parameters: Updated weights and biases.\n",
    "    - v: Updated momentum variable.\n",
    "    \"\"\"\n",
    "    for k in parameters.keys():\n",
    "        v[k] = beta * v[k] + (1-beta) * gradients[f'd{k}']\n",
    "        parameters[k] -= learning_rate * v[k]\n",
    "    return parameters, v\n"
   ],
   "outputs": [],
   "execution_count": 22
  },
  {
   "cell_type": "markdown",
   "metadata": {
    "id": "k_DvOLijfIFK"
   },
   "source": [
    "3. Modify the Training Loop\n"
   ]
  },
  {
   "cell_type": "code",
   "metadata": {
    "id": "uz3jxDtCfIuA",
    "ExecuteTime": {
     "end_time": "2024-11-22T18:49:38.848769Z",
     "start_time": "2024-11-22T18:49:38.845557Z"
    }
   },
   "source": [
    "def train_model(X_train, y_train, hidden_size, epochs=50, learning_rate=0.01, optimizer='sgd'):\n",
    "    \"\"\"\n",
    "    Train the neural network model using specified optimizer.\n",
    "\n",
    "    Parameters:\n",
    "    - X_train: Training data.\n",
    "    - y_train: One-hot encoded labels.\n",
    "    - hidden_size: Number of neurons in the hidden layer.\n",
    "    - epochs: Number of training epochs.\n",
    "    - learning_rate: Learning rate for optimization.\n",
    "    - optimizer: The optimizer to use ('sgd' or 'momentum').\n",
    "\n",
    "    Returns:\n",
    "    - loss_history: List of loss values over epochs.\n",
    "    \"\"\"\n",
    "    input_size = X_train.shape[1]\n",
    "    output_size = y_train.shape[1]\n",
    "    parameters = initialize_parameters(input_size, hidden_size, output_size)\n",
    "    if optimizer == 'momentum':\n",
    "        v = initialize_momentum(parameters)\n",
    "    loss_history = []\n",
    "    for _ in range(epochs):\n",
    "        y_pred, cache = forward_propagation(X_train, parameters)\n",
    "        loss = compute_loss(y_train, y_pred)\n",
    "        gradients = backward_propagation(X_train, y_train, parameters, cache)\n",
    "        if optimizer == 'momentum':\n",
    "            parameters, v = update_parameters_with_momentum(parameters, gradients, v, learning_rate)\n",
    "        elif optimizer == 'sgd':\n",
    "            parameters = update_parameters_with_sgd(parameters, gradients, learning_rate)\n",
    "        loss_history.append(loss)\n",
    "        if _ % 10 == 0:\n",
    "            print(f'Epoch {_}, Loss: {loss:.4f}')\n",
    "    return loss_history"
   ],
   "outputs": [],
   "execution_count": 23
  },
  {
   "cell_type": "markdown",
   "metadata": {
    "id": "wVbv6XeYfLbf"
   },
   "source": [
    "4. Train the Model with Both Optimizers\n"
   ]
  },
  {
   "cell_type": "code",
   "metadata": {
    "colab": {
     "base_uri": "https://localhost:8080/",
     "height": 801
    },
    "id": "0zEcNXJGfOTf",
    "outputId": "3d69406a-d63b-4960-ea0a-7680fd4ab5ad",
    "ExecuteTime": {
     "end_time": "2024-11-22T18:50:06.922263Z",
     "start_time": "2024-11-22T18:49:41.365779Z"
    }
   },
   "source": [
    "def compare_sgd_and_momentum(X_train, y_train, hidden_size, epochs=50):\n",
    "    \"\"\"\n",
    "    Compare the performance of classic SGD and SGD with momentum.\n",
    "\n",
    "    Parameters:\n",
    "    - X_train: Training data.\n",
    "    - y_train: One-hot encoded labels.\n",
    "    - hidden_size: Number of neurons in the hidden layer.\n",
    "    - epochs: Number of training epochs.\n",
    "    \"\"\"\n",
    "    print('Training with Classic SGD...')\n",
    "    sgd_loss = train_model(X_train, y_train, hidden_size, epochs, optimizer='sgd')\n",
    "    print('\\nTraining with SGD with Momentum...')\n",
    "    momentum_loss = train_model(X_train, y_train, hidden_size, epochs, optimizer='momentum')\n",
    "    plt.plot(sgd_loss, label='Classic SGD Loss')\n",
    "    plt.plot(momentum_loss, label='SGD with Momentum Loss')\n",
    "    plt.xlabel('Epochs')\n",
    "    plt.ylabel('Loss')\n",
    "    plt.title('Loss Comparison: Classic SGD vs. SGD with Momentum')\n",
    "    plt.grid = True\n",
    "    plt.legend()\n",
    "    plt.show()\n",
    "\n",
    "compare_sgd_and_momentum(x_train.reshape(-1, 784), y_train, 64)\n"
   ],
   "outputs": [
    {
     "name": "stdout",
     "output_type": "stream",
     "text": [
      "Training with Classic SGD...\n",
      "Epoch 0, Loss: 0.7148\n",
      "Epoch 10, Loss: 1.6053\n",
      "Epoch 20, Loss: 1.8328\n",
      "Epoch 30, Loss: 1.8417\n",
      "Epoch 40, Loss: 1.7943\n",
      "\n",
      "Training with SGD with Momentum...\n",
      "Epoch 0, Loss: 0.6474\n",
      "Epoch 10, Loss: 1.1344\n",
      "Epoch 20, Loss: 1.9534\n",
      "Epoch 30, Loss: 2.3007\n",
      "Epoch 40, Loss: 2.1382\n"
     ]
    },
    {
     "data": {
      "text/plain": [
       "<Figure size 640x480 with 1 Axes>"
      ],
      "image/png": "[encoded data removed]"
     },
     "metadata": {},
     "output_type": "display_data"
    }
   ],
   "execution_count": 24
  },
  {
   "cell_type": "markdown",
   "metadata": {
    "id": "OhaXIjuClXP6"
   },
   "source": [
    "## Mini-Batch Gradient Descent"
   ]
  },
  {
   "cell_type": "markdown",
   "metadata": {
    "id": "wpBVHm6elXP6"
   },
   "source": [
    "### Mini-Batch Size Optimization"
   ]
  },
  {
   "cell_type": "markdown",
   "metadata": {
    "id": "rUDwKXOAgc2h"
   },
   "source": [
    "TODO: Investigate how different mini-batch sizes affect model performance, you can set up an experiment where you train the same model using various mini-batch sizes.\n",
    "\n",
    "Steps for Implementing the Mini-Batch Size Experiment\n",
    "\n",
    "1. Modify the Training Loop: Update the training loop to use mini-batches.\n",
    "2. Train the Model: Run the training process with a set of predefined mini-batch sizes.\n",
    "3. Evaluate Performance: Track training time and accuracy for each mini-batch size.\n",
    "4. Print the training losses and accuracies for comparison."
   ]
  },
  {
   "cell_type": "markdown",
   "metadata": {
    "id": "sz2dJu_PgvJH"
   },
   "source": [
    "1. Modify the Training Loop for Mini-Batches\n"
   ]
  },
  {
   "cell_type": "code",
   "metadata": {
    "id": "2eBWqUKwgqqN",
    "ExecuteTime": {
     "end_time": "2024-11-22T18:51:54.215387Z",
     "start_time": "2024-11-22T18:51:54.211363Z"
    }
   },
   "source": [
    "def evaluate_accuracy(X_train, y_train, parameters):\n",
    "    y_pred, _ = forward_propagation(X_train, parameters)\n",
    "    predictions = np.argmax(y_pred, axis=1)\n",
    "    true_labels = np.argmax(y_train, axis=1)\n",
    "    accuracy = np.mean(predictions == true_labels)\n",
    "    return accuracy\n",
    "\n",
    "def train_model_with_mini_batches(X_train, y_train, hidden_size, epochs=50, learning_rate=0.01, batch_size=32):\n",
    "    \"\"\"\n",
    "    Train the neural network model using mini-batches.\n",
    "\n",
    "    Parameters:\n",
    "    - X_train: Training data.\n",
    "    - y_train: One-hot encoded labels.\n",
    "    - hidden_size: Number of neurons in the hidden layer.\n",
    "    - epochs: Number of training epochs.\n",
    "    - learning_rate: Learning rate for optimization.\n",
    "    - batch_size: Size of mini-batches.\n",
    "\n",
    "    Returns:\n",
    "    - loss_history: List of loss values over epochs.\n",
    "    - accuracy_history: List of accuracy values over epochs.\n",
    "    \"\"\"\n",
    "    input_size = X_train.shape[1]\n",
    "    output_size = y_train.shape[1]\n",
    "    parameters = initialize_parameters(input_size, hidden_size, output_size)\n",
    "    loss_history = []\n",
    "    accuracy_history = []\n",
    "    for _ in range(epochs):\n",
    "        epoch_loss = 0\n",
    "        for i in range(0, X_train.shape[0], batch_size):\n",
    "            X_batch = X_train[i:i+batch_size]\n",
    "            y_batch = y_train[i:i+batch_size]\n",
    "            y_pred, cache = forward_propagation(X_batch, parameters)\n",
    "            loss = compute_loss(y_batch, y_pred)\n",
    "            gradients = backward_propagation(X_batch, y_batch, parameters, cache)\n",
    "            parameters = update_parameters_with_sgd(parameters, gradients, learning_rate)\n",
    "            epoch_loss += loss\n",
    "        # print(gradients)\n",
    "        loss_history.append(epoch_loss / (X_train.shape[0] // batch_size))\n",
    "        accuracy = evaluate_accuracy(X_train, y_train, parameters)\n",
    "        accuracy_history.append(accuracy)\n",
    "        if _ % 10 == 0:\n",
    "            print(f'Epoch {_}, Loss: {loss:.4f}, Accuracy: {accuracy:.4f}')\n",
    "    return loss_history, accuracy_history\n",
    "\n"
   ],
   "outputs": [],
   "execution_count": 27
  },
  {
   "cell_type": "markdown",
   "metadata": {
    "id": "ja1aWHjwgwMl"
   },
   "source": [
    "2. Train the Model with Different Mini-Batch Sizes\n"
   ]
  },
  {
   "cell_type": "code",
   "metadata": {
    "colab": {
     "base_uri": "https://localhost:8080/"
    },
    "id": "R7vvj-y_is_k",
    "outputId": "7bca490c-a4a5-4865-8448-37d26546cfc5",
    "ExecuteTime": {
     "end_time": "2024-11-22T18:54:46.834666Z",
     "start_time": "2024-11-22T18:51:55.137682Z"
    }
   },
   "source": [
    "def compare_mini_batch_sizes(X_train, y_train, hidden_size, epochs=50, batch_sizes=[16, 32, 64]):\n",
    "    \"\"\"\n",
    "    Compare the performance of different mini-batch sizes and print results.\n",
    "\n",
    "    Parameters:\n",
    "    - X_train: Training data.\n",
    "    - y_train: One-hot encoded labels.\n",
    "    - hidden_size: Number of neurons in the hidden layer.\n",
    "    - epochs: Number of training epochs.\n",
    "    - batch_sizes: List of mini-batch sizes to test.\n",
    "    \"\"\"\n",
    "    for batch_size in batch_sizes:\n",
    "        print(f'Training with mini-batch size: {batch_size}')\n",
    "        train_model_with_mini_batches(X_train, y_train, hidden_size, epochs, batch_size)\n",
    "        print()\n",
    "        \n",
    "compare_mini_batch_sizes(x_train.reshape(-1, 784), y_train, 64)\n"
   ],
   "outputs": [
    {
     "name": "stdout",
     "output_type": "stream",
     "text": [
      "Training with mini-batch size: 16\n",
      "Epoch 0, Loss: 3.0138, Accuracy: 0.1000\n",
      "Epoch 10, Loss: 3.0138, Accuracy: 0.1000\n",
      "Epoch 20, Loss: 3.0138, Accuracy: 0.1000\n",
      "Epoch 30, Loss: 3.0138, Accuracy: 0.1000\n",
      "Epoch 40, Loss: 3.0138, Accuracy: 0.1000\n",
      "\n",
      "Training with mini-batch size: 32\n",
      "Epoch 0, Loss: 13.1705, Accuracy: 0.1000\n",
      "Epoch 10, Loss: 12.5433, Accuracy: 0.1000\n",
      "Epoch 20, Loss: 11.8809, Accuracy: 0.1000\n",
      "Epoch 30, Loss: 9.3339, Accuracy: 0.1000\n",
      "Epoch 40, Loss: 11.6097, Accuracy: 0.1000\n",
      "\n",
      "Training with mini-batch size: 64\n",
      "Epoch 0, Loss: 26.8182, Accuracy: 0.1000\n",
      "Epoch 10, Loss: 28.7134, Accuracy: 0.1000\n",
      "Epoch 20, Loss: 17.4032, Accuracy: 0.1000\n",
      "Epoch 30, Loss: 32.7858, Accuracy: 0.1000\n",
      "Epoch 40, Loss: 22.3014, Accuracy: 0.1000\n",
      "\n"
     ]
    }
   ],
   "execution_count": 28
  },
  {
   "cell_type": "markdown",
   "metadata": {
    "id": "wb3WXFgMlXP7"
   },
   "source": [
    "### Mini-Batch vs. Full-Batch Gradient Descent\n"
   ]
  },
  {
   "cell_type": "markdown",
   "metadata": {
    "id": "vVvy9f6PlPCS"
   },
   "source": [
    "TODO: Compare the efficiency and performance of mini-batch gradient descent against full-batch gradient descent.\n",
    "\n",
    "1. Implement Full-Batch Gradient Descent: Ensure you have a full-batch gradient descent implementation.\n",
    "\n",
    "2. Modify the Training Loop: Allow the training loop to handle both mini-batch and full-batch scenarios.\n",
    "\n",
    "3. Train the Model: Run the training process using both methods and track their performance.\n",
    "\n",
    "4. Print Results: Display the final loss and accuracy for both methods along with training times."
   ]
  },
  {
   "cell_type": "code",
   "metadata": {
    "id": "tlTYBB2tlgBG",
    "ExecuteTime": {
     "end_time": "2024-11-22T18:54:46.840385Z",
     "start_time": "2024-11-22T18:54:46.835839Z"
    }
   },
   "source": [
    "def train_model_full_batch(X_train, y_train, hidden_size, epochs=50, learning_rate=0.01):\n",
    "    \"\"\"\n",
    "    Train the neural network model using full-batch gradient descent.\n",
    "\n",
    "    Parameters:\n",
    "    - X_train: Training data.\n",
    "    - y_train: One-hot encoded labels.\n",
    "    - hidden_size: Number of neurons in the hidden layer.\n",
    "    - epochs: Number of training epochs.\n",
    "    - learning_rate: Learning rate for optimization.\n",
    "\n",
    "    Returns:\n",
    "    - loss_history: List of loss values over epochs.\n",
    "    - accuracy_history: List of accuracy values over epochs.\n",
    "    \"\"\"\n",
    "    return train_model_with_mini_batches(X_train, y_train, hidden_size, epochs, learning_rate, X_train.shape[0])\n"
   ],
   "outputs": [],
   "execution_count": 29
  },
  {
   "cell_type": "code",
   "metadata": {
    "colab": {
     "base_uri": "https://localhost:8080/"
    },
    "id": "YIb4-9eGllGi",
    "outputId": "ead5c84a-6a1d-4c2e-fe64-47345d5f86b5",
    "ExecuteTime": {
     "end_time": "2024-11-22T18:56:07.982750Z",
     "start_time": "2024-11-22T18:54:46.841587Z"
    }
   },
   "source": [
    "import time\n",
    "def compare_mini_batch_and_full_batch(X_train, y_train, hidden_size, epochs=50, batch_size=32):\n",
    "    \"\"\"\n",
    "    Compare the performance of mini-batch gradient descent against full-batch gradient descent.\n",
    "\n",
    "    Parameters:\n",
    "    - X_train: Training data.\n",
    "    - y_train: One-hot encoded labels.\n",
    "    - hidden_size: Number of neurons in the hidden layer.\n",
    "    - epochs: Number of training epochs.\n",
    "    - batch_size: Size of mini-batches for mini-batch gradient descent.\n",
    "    \"\"\"\n",
    "    print('Training with Mini-Batch Gradient Descent...')\n",
    "    start_time = time.time()\n",
    "    mini_batch_loss, mini_batch_accuracy = train_model_with_mini_batches(X_train, y_train, hidden_size, epochs, batch_size)\n",
    "    mini_batch_time = time.time() - start_time\n",
    "    print('\\nTraining with Full-Batch Gradient Descent...')\n",
    "    start_time = time.time()\n",
    "    full_batch_loss, full_batch_accuracy = train_model_full_batch(X_train, y_train, hidden_size, epochs)\n",
    "    full_batch_time = time.time() - start_time\n",
    "    \n",
    "    print(f'Mini-Batch Final Loss: {mini_batch_loss[-1]:.4f}, Final Accuracy: {mini_batch_accuracy[-1]:.4f}, Time: {mini_batch_time:.2f} seconds')\n",
    "    print(f'Full-Batch Final Loss: {full_batch_loss[-1]:.4f}, Final Accuracy: {full_batch_accuracy[-1]:.4f}, Time: {full_batch_time:.2f} seconds')\n",
    "\n",
    "compare_mini_batch_and_full_batch(x_train.reshape(-1, 784), y_train, 64)\n",
    "    "
   ],
   "outputs": [
    {
     "name": "stdout",
     "output_type": "stream",
     "text": [
      "Training with Mini-Batch Gradient Descent...\n",
      "Epoch 0, Loss: 10.4413, Accuracy: 0.1000\n",
      "Epoch 10, Loss: 12.5880, Accuracy: 0.1000\n",
      "Epoch 20, Loss: 9.6913, Accuracy: 0.1000\n",
      "Epoch 30, Loss: 8.5860, Accuracy: 0.1000\n",
      "Epoch 40, Loss: 12.3880, Accuracy: 0.1000\n",
      "\n",
      "Training with Full-Batch Gradient Descent...\n",
      "Epoch 0, Loss: 0.5663, Accuracy: 0.1640\n",
      "Epoch 10, Loss: 1.5221, Accuracy: 0.1897\n",
      "Epoch 20, Loss: 1.8252, Accuracy: 0.2478\n",
      "Epoch 30, Loss: 1.8461, Accuracy: 0.3127\n",
      "Epoch 40, Loss: 1.7907, Accuracy: 0.3709\n",
      "Mini-Batch Final Loss: 6.7461, Final Accuracy: 0.1000, Time: 64.62 seconds\n",
      "Full-Batch Final Loss: 1.7266, Final Accuracy: 0.4122, Time: 16.52 seconds\n"
     ]
    }
   ],
   "execution_count": 30
  },
  {
   "metadata": {},
   "cell_type": "code",
   "source": "",
   "outputs": [],
   "execution_count": null
  }
 ],
 "metadata": {
  "colab": {
   "provenance": []
  },
  "kernelspec": {
   "display_name": "Python 3 (ipykernel)",
   "name": "python3",
   "language": "python"
  },
  "language_info": {
   "codemirror_mode": {
    "name": "ipython",
    "version": 3
   },
   "file_extension": ".py",
   "mimetype": "text/x-python",
   "name": "python",
   "nbconvert_exporter": "python",
   "pygments_lexer": "ipython3",
   "version": "3.10.5"
  }
 },
 "nbformat": 4,
 "nbformat_minor": 0
}
